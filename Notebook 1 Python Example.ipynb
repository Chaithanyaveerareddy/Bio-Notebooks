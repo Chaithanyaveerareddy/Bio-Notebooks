{
 "cells": [
  {
   "cell_type": "code",
   "execution_count": 2,
   "metadata": {},
   "outputs": [
    {
     "name": "stdout",
     "output_type": "stream",
     "text": [
      "\n",
      " Hello world I am editing! Biomedical SubjectSystems\n",
      "2\n"
     ]
    }
   ],
   "source": [
    "txt='Biomedical'\n",
    "txt2=\" Subject\"\n",
    "txt3=\"Systems\"\n",
    "print('\\n Hello world I am editing! '+txt+txt2+txt3)\n",
    "list1=[2,2,3]\n",
    "print(list1[0])"
   ]
  },
  {
   "cell_type": "markdown",
   "metadata": {},
   "source": [
    "The above program shows a simpple example of Python."
   ]
  }
 ],
 "metadata": {
  "kernelspec": {
   "display_name": "Python 2",
   "language": "python",
   "name": "python2"
  },
  "language_info": {
   "codemirror_mode": {
    "name": "ipython",
    "version": 2
   },
   "file_extension": ".py",
   "mimetype": "text/x-python",
   "name": "python",
   "nbconvert_exporter": "python",
   "pygments_lexer": "ipython2",
   "version": "2.7.13"
  }
 },
 "nbformat": 4,
 "nbformat_minor": 2
}
